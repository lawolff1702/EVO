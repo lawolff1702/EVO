{
 "cells": [
  {
   "cell_type": "markdown",
   "metadata": {},
   "source": [
    "# Demo 1: The Basic Setup of Our Evolutionary Algorithm"
   ]
  },
  {
   "cell_type": "code",
   "execution_count": 20,
   "metadata": {},
   "outputs": [
    {
     "name": "stdout",
     "output_type": "stream",
     "text": [
      "The autoreload extension is already loaded. To reload it, use:\n",
      "  %reload_ext autoreload\n"
     ]
    }
   ],
   "source": [
    "%load_ext autoreload\n",
    "%autoreload 2\n",
    "from EVO_BASE import LogisticRegression, EvolutionOptimizer\n",
    "import torch\n",
    "import numpy as np\n",
    "import time\n",
    "import random\n",
    "import matplotlib.pyplot as plt"
   ]
  },
  {
   "cell_type": "markdown",
   "metadata": {},
   "source": [
    "### The Big Idea:\n",
    "\n",
    "We establish a collection of weight vectors (possible solutions of w) as a population. Each \"individual\" in the population is thus an individual weight vector. Each \"generation\", we perform the following procedure on the population.\n",
    "\n",
    "1. Select the \"best\" individuals based on some selection criteria (In our case, the loss of the weight vector)\n",
    "2. Combine these selected individuals into \"offspring\" (To become a new generation of weight vectors)\n",
    "3. Mutate some part of the population/individuals to add evolutionary variety\n",
    "4. Repeat until a weight vector has been found which minimizes loss"
   ]
  },
  {
   "cell_type": "markdown",
   "metadata": {},
   "source": [
    "### Here is a look at how the Class is set up:"
   ]
  },
  {
   "cell_type": "markdown",
   "metadata": {},
   "source": [
    "```python\n",
    "\"\"\"\n",
    "First, we set up the class instance. Each instance of the EvolutionOptimizer has a model attribute - the model it inherits/passed through the constructor which we are trying to train on. It also has a mutation \"rate\" value which determines how much/how often random changes are introduced to weight vectors. This is initialized to 0.1. Then, we have population_size, which is how many individuals - i.e. possible solution weight vectors - are in our instance.\n",
    "\"\"\"\n",
    "def __init__(self, model):\n",
    "    self.model = model\n",
    "    self.mutation = 0.1  \n",
    "    self.population_size = 100"
   ]
  },
  {
   "cell_type": "markdown",
   "metadata": {},
   "source": [
    "```python\n",
    "\"\"\"\n",
    "This function allows us to adjust how often we introduce mutations - random changes - to the population.\n",
    "\"\"\"\n",
    "def set_mutation(self, mutation):\n",
    "    self.mutation = mutation"
   ]
  },
  {
   "cell_type": "markdown",
   "metadata": {},
   "source": [
    "```python\n",
    "\"\"\"\n",
    "This function allows us to adjust how many individual weight vectors are in our population.\n",
    "\"\"\"\n",
    "def set_population_size(self, population_size):\n",
    "    self.population_size = population_size"
   ]
  },
  {
   "cell_type": "markdown",
   "metadata": {},
   "source": [
    "```python\n",
    "\"\"\"\n",
    "This is the main function in our class, which performs one generation of evolution on our population.\n",
    "\"\"\"\n",
    "def step(self, X, y):\n",
    "    # We first check if the population even exists yet \n",
    "    # (i.e. if individual weight vectors exist in our population)\n",
    "    # If not, we create a set of random weight vectors to get started\n",
    "    if self.model.population == []:\n",
    "        self.model.population = [torch.rand(X.size(1)) for _ in range(self.population_size)]\n",
    "\n",
    "    # We sort all \"individuals\" by how well they perform on our evolutionary \"test\"\n",
    "    # In our case, we rank them by loss\n",
    "    # (i.e. how much loss a given weight vector produces on our training data set X)\n",
    "    # Lower loss is \"better\" in our current setup\n",
    "    population = sorted(population, key=lambda w: self.model.loss(X, y, w))\n",
    "    \n",
    "    # Based on this sorted population, we perform the \"best\" half - the half of\n",
    "    # weight vectors which has the lowest loss - and make them the basis of the new population\n",
    "    population = population[:self.population_size // 2]\n",
    "\n",
    "    # Create a new population array\n",
    "    new_population = []\n",
    "\n",
    "    # Now, for each individual in the population, we do the following:\n",
    "    # Note, that while we removed half the population already, the \"population_size\"\n",
    "    # attribute has not been updated. So, in this case, we are executing this loop\n",
    "    # 100 times\n",
    "    for _ in range(self.population_size):\n",
    "        # We pick two \"parents\" from the population randomly\n",
    "        parent1 = random.choice(population)\n",
    "        parent2 = random.choice(population)\n",
    "\n",
    "        # We create a new \"child\" weight vector by mixing the elements of the parents\n",
    "        # This is meant to mimic genetic crossover\n",
    "\n",
    "        # 1. Create a random binary mask tensor the same shape as parent1\n",
    "        # Each element of this tensor of values between 0 and 1\n",
    "        # Compare to 0.5 to turn value to False or True\n",
    "        mask = torch.rand_like(parent1) < 0.5\n",
    "\n",
    "        # 2. Build a child tensor using the binary mask\n",
    "        # if mask[i] is True, then child[i] = parent1[i]\n",
    "        # if mask[i] is False, then child[i] = parent2[i]\n",
    "        # So, on average, the child will inherit half its weights from each parent\n",
    "        child = torch.where(mask, parent1, parent2)\n",
    "\n",
    "        # Now, we introduce mutation into the child weight vector\n",
    "\n",
    "        # 1. Create a random mask that determines which genes (weights) in the child will be mutated\n",
    "        # < self.mutation compares each value to the mutation rate, and converts to True or False\n",
    "        # The result tensor is boolean, where True means we will mutate that weight\n",
    "        # and False means we will not mutate\n",
    "        mutation_mask = torch.rand_like(child) < self.mutation\n",
    "\n",
    "        # 2. This generates random noise to be added to mutated geans\n",
    "        # torch.normal gets values from a normal distribution\n",
    "        # mean = 0.0 means the average mutation is 0\n",
    "        # std = 0.1 will keep most mutations small (determines standard deviation)\n",
    "        mutation_values = torch.normal(mean=0.0, std=0.1, size=child.size())\n",
    "\n",
    "        # 3. Apply the mutation where our mutation_mask is True\n",
    "        # if mutation_mask[i] is True, then child[i] = child[i] + mutation_values[i]\n",
    "        # if mutation_mask[i] is False, then child[i] remains unchanged\n",
    "        child = torch.where(mutation_mask, child + mutation_values, child)\n",
    "\n",
    "        # Add the child to the new population\n",
    "        new_population.append(child)\n",
    "\n",
    "    \n",
    "    # Now, we replace the old population with the new one we have just created\n",
    "    self.model.population = new_population\n",
    "\n",
    "    # Set the model weight to the individual with the lowest loss\n",
    "    best = min(new_population, key=lambda w: self.model.loss(X, y, w))\n",
    "    self.model.w = best\n"
   ]
  },
  {
   "cell_type": "markdown",
   "metadata": {},
   "source": [
    "So, with that, we have the complete step function for our evolutionary model:\n",
    "\n",
    "```python\n",
    "def step(self, X, y):\n",
    "        if self.model.population == []:\n",
    "            self.model.population = [torch.rand(X.size(1)) for _ in range(self.population_size)]\n",
    "\n",
    "        population = self.model.population\n",
    "        population = sorted(population, key=lambda w: self.model.loss(X, y, w))\n",
    "        population = population[:self.population_size // 2]  # Keep the best half\n",
    "\n",
    "        new_population = []\n",
    "\n",
    "        for _ in range(self.population_size): \n",
    "            parent1 = random.choice(population)\n",
    "            parent2 = random.choice(population)\n",
    "\n",
    "            # Inherit half from each parent\n",
    "            mask = torch.rand_like(parent1) < 0.5\n",
    "            child = torch.where(mask, parent1, parent2)\n",
    "\n",
    "            mutation_mask = torch.rand_like(child) < self.mutation\n",
    "            mutation_values = torch.normal(mean=0.0, std=0.1, size=child.size())\n",
    "            child = torch.where(mutation_mask, child + mutation_values, child)\n",
    "\n",
    "            new_population.append(child)\n",
    "\n",
    "        # Update population and set model weights to best\n",
    "        self.model.population = new_population\n",
    "        best = min(new_population, key=lambda w: self.model.loss(X, y, w))\n",
    "        self.model.w = best"
   ]
  },
  {
   "cell_type": "code",
   "execution_count": 21,
   "metadata": {},
   "outputs": [],
   "source": [
    "def classification_data(n_points = 300, noise = 0.2, p_dims = 2):\n",
    "    \n",
    "    y = torch.arange(n_points) >= int(n_points/2)\n",
    "    y = 1.0*y\n",
    "    X = y[:, None] + torch.normal(0.0, noise, size = (n_points,p_dims))\n",
    "    X = torch.cat((X, torch.ones((X.shape[0], 1))), 1)\n",
    "    \n",
    "    return X, y"
   ]
  },
  {
   "cell_type": "code",
   "execution_count": 22,
   "metadata": {},
   "outputs": [],
   "source": [
    "def accuracy(model, X, y):\n",
    "    y_pred = model.predict(X)\n",
    "    return (y_pred == y).float().mean().item()"
   ]
  },
  {
   "cell_type": "code",
   "execution_count": 23,
   "metadata": {},
   "outputs": [
    {
     "name": "stdout",
     "output_type": "stream",
     "text": [
      "Time taken:  5.754229784011841\n"
     ]
    },
    {
     "data": {
      "image/png": "[encoded data removed]",
      "text/plain": [
       "<Figure size 640x480 with 1 Axes>"
      ]
     },
     "metadata": {},
     "output_type": "display_data"
    }
   ],
   "source": [
    "X, y = classification_data(p_dims=200, noise=0.8, n_points=1000)\n",
    "LR = LogisticRegression()\n",
    "opt = EvolutionOptimizer(LR)\n",
    "opt.set_mutation(0.5)\n",
    "opt.set_population_size(100)\n",
    "losses = []\n",
    "start = time.time()\n",
    "while accuracy(LR, X, y) < 1:\n",
    "    opt.step(X, y)\n",
    "    losses.append(LR.loss(X, y).item())\n",
    "print(\"Time taken: \", time.time() - start)\n",
    "plt.plot(losses, label=\"Evolution Optimizer Loss\")\n",
    "plt.xlabel(\"Iterations\")\n",
    "plt.ylabel(\"Loss\")\n",
    "plt.title(\"Evolution Optimizer\")\n",
    "plt.legend()\n",
    "plt.grid(True)\n",
    "plt.show()"
   ]
  }
 ],
 "metadata": {
  "kernelspec": {
   "display_name": "ml-0451",
   "language": "python",
   "name": "python3"
  },
  "language_info": {
   "codemirror_mode": {
    "name": "ipython",
    "version": 3
   },
   "file_extension": ".py",
   "mimetype": "text/x-python",
   "name": "python",
   "nbconvert_exporter": "python",
   "pygments_lexer": "ipython3",
   "version": "3.9.21"
  }
 },
 "nbformat": 4,
 "nbformat_minor": 2
}
