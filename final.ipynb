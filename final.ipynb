{
 "cells": [
  {
   "cell_type": "code",
   "execution_count": 3,
   "id": "274383e3",
   "metadata": {},
   "outputs": [],
   "source": [
    "import torch\n",
    "import torch.nn as nn\n",
    "from torchvision import datasets, transforms\n",
    "from torch.utils.data import DataLoader\n",
    "from EVO import DeepNeuralNetwork, EvolutionOptimizer, LogisticRegression\n",
    "\n",
    "device = torch.device(\"cuda\" if torch.cuda.is_available()\n",
    "                      else (\"mps\" if torch.backends.mps.is_available() else \"cpu\"))\n",
    "\n",
    "transform = transforms.Compose([\n",
    "    transforms.ToTensor(),                        # (1, 28, 28) in [0,1]\n",
    "    transforms.Normalize((0.1307,), (0.3081,)),   # standard MNIST normalisation\n",
    "    transforms.Lambda(lambda x: x.view(-1))       # flatten to (784,)\n",
    "])\n",
    "\n",
    "train_ds = datasets.MNIST(\".\", train=True,  download=True, transform=transform)\n",
    "test_ds  = datasets.MNIST(\".\", train=False, download=True, transform=transform)\n",
    "\n",
    "train_loader = DataLoader(train_ds, batch_size=128, shuffle=True)\n",
    "test_loader  = DataLoader(test_ds,  batch_size=1000)"
   ]
  },
  {
   "cell_type": "code",
   "execution_count": null,
   "id": "734e9064",
   "metadata": {},
   "outputs": [
    {
     "name": "stdout",
     "output_type": "stream",
     "text": [
      "Generation 1, Test Accuracy: 31.38%\n",
      "Generation 2, Test Accuracy: 53.15%\n",
      "Generation 3, Test Accuracy: 52.49%\n",
      "Generation 4, Test Accuracy: 60.48%\n"
     ]
    }
   ],
   "source": [
    "# Model + Optimizer\n",
    "model = DeepNeuralNetwork([784, 64, 10])\n",
    "model.use_diversity_loss = True\n",
    "optimizer = EvolutionOptimizer(model)\n",
    "optimizer.set_population_size(10)\n",
    "optimizer.use_backprop = False\n",
    "optimizer.set_diversity_coeff(0.1)\n",
    "optimizer.set_survivors_ratio(0.1)\n",
    "optimizer.set_fitness_ratio(0.5)\n",
    "optimizer.set_sneaker_prob(0.1)\n",
    "optimizer.set_mutation_intensity(0.2)\n",
    "optimizer.mutation_rate = 0.3\n",
    "\n",
    "# Evolution loop\n",
    "for generation in range(10):  # evolve for 10 generations\n",
    "    for X, y in train_loader:\n",
    "        optimizer.step(X, y)\n",
    "\n",
    "    # Test accuracy\n",
    "    correct = total = 0\n",
    "    with torch.no_grad():\n",
    "        for X, y in test_loader:\n",
    "            X, y = X.to(model.device), y.to(model.device)   # Move to model's device\n",
    "            preds = model.predict(X)\n",
    "            correct += (preds == y).sum().item()\n",
    "            total   += y.size(0)\n",
    "\n",
    "    print(f\"Generation {generation+1}, Test Accuracy: {100*correct/total:.2f}%\")"
   ]
  },
  {
   "cell_type": "code",
   "execution_count": null,
   "id": "8abea8bc",
   "metadata": {},
   "outputs": [],
   "source": []
  }
 ],
 "metadata": {
  "kernelspec": {
   "display_name": "ml",
   "language": "python",
   "name": "python3"
  },
  "language_info": {
   "codemirror_mode": {
    "name": "ipython",
    "version": 3
   },
   "file_extension": ".py",
   "mimetype": "text/x-python",
   "name": "python",
   "nbconvert_exporter": "python",
   "pygments_lexer": "ipython3",
   "version": "3.12.0"
  }
 },
 "nbformat": 4,
 "nbformat_minor": 5
}
