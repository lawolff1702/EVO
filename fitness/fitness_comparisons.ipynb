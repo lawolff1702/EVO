{
 "cells": [
  {
   "cell_type": "markdown",
   "id": "ad7c6a14",
   "metadata": {},
   "source": [
    "# Exploring Different Fitness / Selection Criterion"
   ]
  },
  {
   "cell_type": "code",
   "execution_count": 2,
   "id": "0e398d07",
   "metadata": {},
   "outputs": [
    {
     "name": "stdout",
     "output_type": "stream",
     "text": [
      "The autoreload extension is already loaded. To reload it, use:\n",
      "  %reload_ext autoreload\n"
     ]
    }
   ],
   "source": [
    "%load_ext autoreload\n",
    "%autoreload 2\n",
    "import sys\n",
    "sys.path.append('../')  # Replace '/path/to/EVO_BASE' with the actual path to the module\n",
    "from EVO import LogisticRegression, EvolutionOptimizer\n",
    "from fitness import FitnessOptimizer\n",
    "import torch\n",
    "import numpy as np\n",
    "import time\n",
    "import random\n",
    "import matplotlib.pyplot as plt"
   ]
  },
  {
   "cell_type": "code",
   "execution_count": null,
   "id": "f785a092",
   "metadata": {},
   "outputs": [],
   "source": []
  }
 ],
 "metadata": {
  "kernelspec": {
   "display_name": "ml-0451",
   "language": "python",
   "name": "python3"
  },
  "language_info": {
   "codemirror_mode": {
    "name": "ipython",
    "version": 3
   },
   "file_extension": ".py",
   "mimetype": "text/x-python",
   "name": "python",
   "nbconvert_exporter": "python",
   "pygments_lexer": "ipython3",
   "version": "3.9.21"
  }
 },
 "nbformat": 4,
 "nbformat_minor": 5
}
