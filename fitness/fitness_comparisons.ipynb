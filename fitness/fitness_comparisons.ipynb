{
 "cells": [
  {
   "cell_type": "markdown",
   "id": "ad7c6a14",
   "metadata": {},
   "source": [
    "# Exploring Different Fitness / Selection Criterion"
   ]
  },
  {
   "cell_type": "code",
   "execution_count": 1,
   "id": "0e398d07",
   "metadata": {},
   "outputs": [],
   "source": [
    "%load_ext autoreload\n",
    "%autoreload 2\n",
    "import sys\n",
    "sys.path.append('../')  # Replace '/path/to/EVO_BASE' with the actual path to the module\n",
    "from EVO import LogisticRegression, EvolutionOptimizer\n",
    "from fitness import FitnessOptimizer\n",
    "import torch\n",
    "import numpy as np\n",
    "import time\n",
    "import random\n",
    "import matplotlib.pyplot as plt"
   ]
  },
  {
   "cell_type": "code",
   "execution_count": 2,
   "id": "f785a092",
   "metadata": {},
   "outputs": [],
   "source": [
    "def classification_data(n_points = 300, noise = 0.2, p_dims = 2):\n",
    "    \n",
    "    y = torch.arange(n_points) >= int(n_points/2)\n",
    "    y = 1.0*y\n",
    "    X = y[:, None] + torch.normal(0.0, noise, size = (n_points,p_dims))\n",
    "    X = torch.cat((X, torch.ones((X.shape[0], 1))), 1)\n",
    "    \n",
    "    return X, y"
   ]
  },
  {
   "cell_type": "code",
   "execution_count": 3,
   "id": "73f866a9",
   "metadata": {},
   "outputs": [],
   "source": [
    "def accuracy(model, X, y):\n",
    "    y_pred = model.predict(X)\n",
    "    return (y_pred == y).float().mean().item()"
   ]
  },
  {
   "cell_type": "code",
   "execution_count": 14,
   "id": "5d5d47fe",
   "metadata": {},
   "outputs": [
    {
     "name": "stdout",
     "output_type": "stream",
     "text": [
      "Torch version: 2.5.1\n",
      "CUDA available? False\n"
     ]
    }
   ],
   "source": [
    "import torch\n",
    "\n",
    "print(\"Torch version:\", torch.__version__)\n",
    "print(\"CUDA available?\", torch.cuda.is_available())\n",
    "if torch.cuda.is_available():\n",
    "    print(\"  GPU count:\", torch.cuda.device_count())\n",
    "    print(\"  Current device:\", torch.cuda.current_device())\n",
    "    print(\"  Device name:\", torch.cuda.get_device_name(0))"
   ]
  },
  {
   "cell_type": "code",
   "execution_count": 12,
   "id": "154bdc46",
   "metadata": {},
   "outputs": [
    {
     "ename": "KeyboardInterrupt",
     "evalue": "",
     "output_type": "error",
     "traceback": [
      "\u001b[1;31m---------------------------------------------------------------------------\u001b[0m",
      "\u001b[1;31mKeyboardInterrupt\u001b[0m                         Traceback (most recent call last)",
      "Cell \u001b[1;32mIn[12], line 12\u001b[0m\n\u001b[0;32m     10\u001b[0m start \u001b[38;5;241m=\u001b[39m time\u001b[38;5;241m.\u001b[39mtime()\n\u001b[0;32m     11\u001b[0m \u001b[38;5;28;01mwhile\u001b[39;00m accuracy(LR, X, y) \u001b[38;5;241m<\u001b[39m \u001b[38;5;241m1\u001b[39m:\n\u001b[1;32m---> 12\u001b[0m     \u001b[43mopt\u001b[49m\u001b[38;5;241;43m.\u001b[39;49m\u001b[43mstep\u001b[49m\u001b[43m(\u001b[49m\u001b[43mX\u001b[49m\u001b[43m,\u001b[49m\u001b[43m \u001b[49m\u001b[43my\u001b[49m\u001b[43m,\u001b[49m\u001b[43m \u001b[49m\u001b[43mfitness_threshold\u001b[49m\u001b[38;5;241;43m=\u001b[39;49m\u001b[38;5;241;43m2\u001b[39;49m\u001b[43m)\u001b[49m\n\u001b[0;32m     13\u001b[0m     loss\u001b[38;5;241m.\u001b[39mappend(LR\u001b[38;5;241m.\u001b[39mloss(X, y)\u001b[38;5;241m.\u001b[39mitem())\n\u001b[0;32m     14\u001b[0m \u001b[38;5;28mprint\u001b[39m(\u001b[38;5;124m\"\u001b[39m\u001b[38;5;124mTime taken: \u001b[39m\u001b[38;5;124m\"\u001b[39m, time\u001b[38;5;241m.\u001b[39mtime() \u001b[38;5;241m-\u001b[39m start)\n",
      "File \u001b[1;32mc:\\Users\\lukka\\OneDrive\\Desktop\\Spring25\\Machine Learning\\EVO\\fitness\\fitness.py:40\u001b[0m, in \u001b[0;36mFitnessOptimizer.step\u001b[1;34m(self, X, y, fitness_threshold)\u001b[0m\n\u001b[0;32m     36\u001b[0m     \u001b[38;5;28mself\u001b[39m\u001b[38;5;241m.\u001b[39mpopulation \u001b[38;5;241m=\u001b[39m [torch\u001b[38;5;241m.\u001b[39mrand(X\u001b[38;5;241m.\u001b[39msize(\u001b[38;5;241m1\u001b[39m), device\u001b[38;5;241m=\u001b[39m\u001b[38;5;28mself\u001b[39m\u001b[38;5;241m.\u001b[39mdevice) \n\u001b[0;32m     37\u001b[0m                     \u001b[38;5;28;01mfor\u001b[39;00m _ \u001b[38;5;129;01min\u001b[39;00m \u001b[38;5;28mrange\u001b[39m(\u001b[38;5;28mself\u001b[39m\u001b[38;5;241m.\u001b[39mpopulation_size)]\n\u001b[0;32m     39\u001b[0m \u001b[38;5;66;03m# Build tuples containing (loss, unique_id, candidate) so that ties can be broken.\u001b[39;00m\n\u001b[1;32m---> 40\u001b[0m pop_with_losses \u001b[38;5;241m=\u001b[39m [(\u001b[38;5;28mself\u001b[39m\u001b[38;5;241m.\u001b[39mmodel\u001b[38;5;241m.\u001b[39mloss(X, y, w)\u001b[38;5;241m.\u001b[39mitem(), i, w) \n\u001b[0;32m     41\u001b[0m                 \u001b[38;5;28;01mfor\u001b[39;00m i, w \u001b[38;5;129;01min\u001b[39;00m \u001b[38;5;28menumerate\u001b[39m(\u001b[38;5;28mself\u001b[39m\u001b[38;5;241m.\u001b[39mpopulation)]\n\u001b[0;32m     43\u001b[0m \u001b[38;5;66;03m# Use heapq to extract the best population based on the fitness threshold.\u001b[39;00m\n\u001b[0;32m     44\u001b[0m best_half \u001b[38;5;241m=\u001b[39m [w \u001b[38;5;28;01mfor\u001b[39;00m (_, _, w) \u001b[38;5;129;01min\u001b[39;00m heapq\u001b[38;5;241m.\u001b[39mnsmallest(\u001b[38;5;28mself\u001b[39m\u001b[38;5;241m.\u001b[39mpopulation_size \u001b[38;5;241m/\u001b[39m\u001b[38;5;241m/\u001b[39m fitness_threshold, pop_with_losses)]\n",
      "File \u001b[1;32mc:\\Users\\lukka\\OneDrive\\Desktop\\Spring25\\Machine Learning\\EVO\\fitness\\fitness.py:40\u001b[0m, in \u001b[0;36m<listcomp>\u001b[1;34m(.0)\u001b[0m\n\u001b[0;32m     36\u001b[0m     \u001b[38;5;28mself\u001b[39m\u001b[38;5;241m.\u001b[39mpopulation \u001b[38;5;241m=\u001b[39m [torch\u001b[38;5;241m.\u001b[39mrand(X\u001b[38;5;241m.\u001b[39msize(\u001b[38;5;241m1\u001b[39m), device\u001b[38;5;241m=\u001b[39m\u001b[38;5;28mself\u001b[39m\u001b[38;5;241m.\u001b[39mdevice) \n\u001b[0;32m     37\u001b[0m                     \u001b[38;5;28;01mfor\u001b[39;00m _ \u001b[38;5;129;01min\u001b[39;00m \u001b[38;5;28mrange\u001b[39m(\u001b[38;5;28mself\u001b[39m\u001b[38;5;241m.\u001b[39mpopulation_size)]\n\u001b[0;32m     39\u001b[0m \u001b[38;5;66;03m# Build tuples containing (loss, unique_id, candidate) so that ties can be broken.\u001b[39;00m\n\u001b[1;32m---> 40\u001b[0m pop_with_losses \u001b[38;5;241m=\u001b[39m [(\u001b[38;5;28;43mself\u001b[39;49m\u001b[38;5;241;43m.\u001b[39;49m\u001b[43mmodel\u001b[49m\u001b[38;5;241;43m.\u001b[39;49m\u001b[43mloss\u001b[49m\u001b[43m(\u001b[49m\u001b[43mX\u001b[49m\u001b[43m,\u001b[49m\u001b[43m \u001b[49m\u001b[43my\u001b[49m\u001b[43m,\u001b[49m\u001b[43m \u001b[49m\u001b[43mw\u001b[49m\u001b[43m)\u001b[49m\u001b[38;5;241m.\u001b[39mitem(), i, w) \n\u001b[0;32m     41\u001b[0m                 \u001b[38;5;28;01mfor\u001b[39;00m i, w \u001b[38;5;129;01min\u001b[39;00m \u001b[38;5;28menumerate\u001b[39m(\u001b[38;5;28mself\u001b[39m\u001b[38;5;241m.\u001b[39mpopulation)]\n\u001b[0;32m     43\u001b[0m \u001b[38;5;66;03m# Use heapq to extract the best population based on the fitness threshold.\u001b[39;00m\n\u001b[0;32m     44\u001b[0m best_half \u001b[38;5;241m=\u001b[39m [w \u001b[38;5;28;01mfor\u001b[39;00m (_, _, w) \u001b[38;5;129;01min\u001b[39;00m heapq\u001b[38;5;241m.\u001b[39mnsmallest(\u001b[38;5;28mself\u001b[39m\u001b[38;5;241m.\u001b[39mpopulation_size \u001b[38;5;241m/\u001b[39m\u001b[38;5;241m/\u001b[39m fitness_threshold, pop_with_losses)]\n",
      "File \u001b[1;32mc:\\Users\\lukka\\OneDrive\\Desktop\\Spring25\\Machine Learning\\EVO\\fitness\\..\\EVO.py:93\u001b[0m, in \u001b[0;36mLogisticRegression.loss\u001b[1;34m(self, X, y, w)\u001b[0m\n\u001b[0;32m     90\u001b[0m preds \u001b[38;5;241m=\u001b[39m torch\u001b[38;5;241m.\u001b[39mclamp(\u001b[38;5;28mself\u001b[39m\u001b[38;5;241m.\u001b[39msigmoid(X \u001b[38;5;241m@\u001b[39m w), \u001b[38;5;241m1e-7\u001b[39m, \u001b[38;5;241m1\u001b[39m \u001b[38;5;241m-\u001b[39m \u001b[38;5;241m1e-7\u001b[39m) \u001b[38;5;66;03m# Avoid log(0)\u001b[39;00m\n\u001b[0;32m     92\u001b[0m \u001b[38;5;66;03m#adding a term to penalize the model for low diversity in the population\u001b[39;00m\n\u001b[1;32m---> 93\u001b[0m diversity_term \u001b[38;5;241m=\u001b[39m \u001b[38;5;28;43mself\u001b[39;49m\u001b[38;5;241;43m.\u001b[39;49m\u001b[43moptimizer\u001b[49m\u001b[38;5;241;43m.\u001b[39;49m\u001b[43maverage_pairwise_distance\u001b[49m\u001b[43m(\u001b[49m\u001b[43m)\u001b[49m\n\u001b[0;32m     95\u001b[0m \u001b[38;5;28;01mreturn\u001b[39;00m (\u001b[38;5;241m-\u001b[39my \u001b[38;5;241m*\u001b[39m torch\u001b[38;5;241m.\u001b[39mlog(preds) \u001b[38;5;241m-\u001b[39m (\u001b[38;5;241m1\u001b[39m \u001b[38;5;241m-\u001b[39m y) \u001b[38;5;241m*\u001b[39m torch\u001b[38;5;241m.\u001b[39mlog(\u001b[38;5;241m1\u001b[39m \u001b[38;5;241m-\u001b[39m preds))\u001b[38;5;241m.\u001b[39mmean() \u001b[38;5;241m-\u001b[39m (\u001b[38;5;28mself\u001b[39m\u001b[38;5;241m.\u001b[39mdiversity_coeff \u001b[38;5;241m*\u001b[39m diversity_term)\n",
      "File \u001b[1;32mc:\\Users\\lukka\\OneDrive\\Desktop\\Spring25\\Machine Learning\\EVO\\fitness\\..\\EVO.py:149\u001b[0m, in \u001b[0;36mEvolutionOptimizer.average_pairwise_distance\u001b[1;34m(self)\u001b[0m\n\u001b[0;32m    147\u001b[0m \u001b[38;5;28;01mif\u001b[39;00m n \u001b[38;5;241m<\u001b[39m \u001b[38;5;241m2\u001b[39m:\n\u001b[0;32m    148\u001b[0m     \u001b[38;5;28;01mreturn\u001b[39;00m \u001b[38;5;241m0\u001b[39m\n\u001b[1;32m--> 149\u001b[0m dists \u001b[38;5;241m=\u001b[39m [torch\u001b[38;5;241m.\u001b[39mnorm(\u001b[38;5;28mself\u001b[39m\u001b[38;5;241m.\u001b[39mpopulation[i] \u001b[38;5;241m-\u001b[39m \u001b[38;5;28mself\u001b[39m\u001b[38;5;241m.\u001b[39mpopulation[j])\n\u001b[0;32m    150\u001b[0m         \u001b[38;5;28;01mfor\u001b[39;00m i \u001b[38;5;129;01min\u001b[39;00m \u001b[38;5;28mrange\u001b[39m(n) \u001b[38;5;28;01mfor\u001b[39;00m j \u001b[38;5;129;01min\u001b[39;00m \u001b[38;5;28mrange\u001b[39m(i \u001b[38;5;241m+\u001b[39m \u001b[38;5;241m1\u001b[39m, n)]\n\u001b[0;32m    151\u001b[0m \u001b[38;5;28;01mreturn\u001b[39;00m torch\u001b[38;5;241m.\u001b[39mstack(dists)\u001b[38;5;241m.\u001b[39mmean()\n",
      "File \u001b[1;32mc:\\Users\\lukka\\OneDrive\\Desktop\\Spring25\\Machine Learning\\EVO\\fitness\\..\\EVO.py:149\u001b[0m, in \u001b[0;36m<listcomp>\u001b[1;34m(.0)\u001b[0m\n\u001b[0;32m    147\u001b[0m \u001b[38;5;28;01mif\u001b[39;00m n \u001b[38;5;241m<\u001b[39m \u001b[38;5;241m2\u001b[39m:\n\u001b[0;32m    148\u001b[0m     \u001b[38;5;28;01mreturn\u001b[39;00m \u001b[38;5;241m0\u001b[39m\n\u001b[1;32m--> 149\u001b[0m dists \u001b[38;5;241m=\u001b[39m [torch\u001b[38;5;241m.\u001b[39mnorm(\u001b[38;5;28;43mself\u001b[39;49m\u001b[38;5;241;43m.\u001b[39;49m\u001b[43mpopulation\u001b[49m\u001b[43m[\u001b[49m\u001b[43mi\u001b[49m\u001b[43m]\u001b[49m\u001b[43m \u001b[49m\u001b[38;5;241;43m-\u001b[39;49m\u001b[43m \u001b[49m\u001b[38;5;28;43mself\u001b[39;49m\u001b[38;5;241;43m.\u001b[39;49m\u001b[43mpopulation\u001b[49m\u001b[43m[\u001b[49m\u001b[43mj\u001b[49m\u001b[43m]\u001b[49m)\n\u001b[0;32m    150\u001b[0m         \u001b[38;5;28;01mfor\u001b[39;00m i \u001b[38;5;129;01min\u001b[39;00m \u001b[38;5;28mrange\u001b[39m(n) \u001b[38;5;28;01mfor\u001b[39;00m j \u001b[38;5;129;01min\u001b[39;00m \u001b[38;5;28mrange\u001b[39m(i \u001b[38;5;241m+\u001b[39m \u001b[38;5;241m1\u001b[39m, n)]\n\u001b[0;32m    151\u001b[0m \u001b[38;5;28;01mreturn\u001b[39;00m torch\u001b[38;5;241m.\u001b[39mstack(dists)\u001b[38;5;241m.\u001b[39mmean()\n",
      "\u001b[1;31mKeyboardInterrupt\u001b[0m: "
     ]
    }
   ],
   "source": [
    "X, y = classification_data(p_dims=200, noise=0.2, n_points=100)\n",
    "LR = LogisticRegression()\n",
    "opt = FitnessOptimizer(LR, \"cuda\" if torch.cuda.is_available() else \"cpu\")\n",
    "opt.set_mutation_rate(0.5)\n",
    "opt.set_population_size(100)\n",
    "\n",
    "LR.set_optimizer(opt)\n",
    "\n",
    "loss = []\n",
    "start = time.time()\n",
    "while accuracy(LR, X, y) < 1:\n",
    "    opt.step(X, y, fitness_threshold=2)\n",
    "    loss.append(LR.loss(X, y).item())\n",
    "print(\"Time taken: \", time.time() - start)\n",
    "plt.plot(loss, label=\"Evolution Optimizer Loss\")\n",
    "plt.xlabel(\"Iterations\")\n",
    "plt.ylabel(\"Loss\")\n",
    "plt.title(\"Evolution Optimizer\")\n",
    "plt.legend()\n",
    "plt.grid(True)\n",
    "plt.show()"
   ]
  },
  {
   "cell_type": "code",
   "execution_count": null,
   "id": "1fb259ea",
   "metadata": {},
   "outputs": [],
   "source": [
    "thresh_range = range(2, 10)\n",
    "loss_dict = {}\n",
    "\n",
    "for thresh in thresh_range:\n",
    "    print(f\"Running for thresh = {thresh}\")\n",
    "    \n",
    "    # Generate new data for fairness (or keep it fixed if you prefer)\n",
    "    X, y = classification_data(p_dims=200, noise=0.8, n_points=100)\n",
    "    \n",
    "    # Set up model and optimizer\n",
    "    LR = LogisticRegression()\n",
    "    opt = FitnessOptimizer(LR, \"cuda\")\n",
    "    opt.set_mutation(0.5)\n",
    "    opt.set_population_size(100)\n",
    "    \n",
    "    # Loss tracking\n",
    "    loss = []\n",
    "    start = time.time()\n",
    "    \n",
    "    # Optimization loop\n",
    "    while accuracy(LR, X, y) < 1:\n",
    "        opt.step(X, y, fitness_threshold=thresh)\n",
    "        loss.append(LR.loss(X, y).item())\n",
    "    \n",
    "    print(f\"Finished in {len(loss)} iterations, Time: {round(time.time() - start, 2)}s\")\n",
    "    loss_dict[thresh] = loss\n",
    "\n",
    "# Plotting\n",
    "plt.figure(figsize=(12, 8))\n",
    "for k, loss in loss_dict.items():\n",
    "    plt.plot(loss, label=f\"Best 1/{k}\")\n",
    "\n",
    "plt.xlabel(\"Iterations\")\n",
    "plt.ylabel(\"Loss\")\n",
    "plt.title(\"Evolution Optimizer Loss vs Survival Ratio\")\n",
    "plt.legend(title=\"Thresholds\")\n",
    "plt.grid(True)\n",
    "plt.show()\n"
   ]
  }
 ],
 "metadata": {
  "kernelspec": {
   "display_name": "ml-0451",
   "language": "python",
   "name": "python3"
  },
  "language_info": {
   "codemirror_mode": {
    "name": "ipython",
    "version": 3
   },
   "file_extension": ".py",
   "mimetype": "text/x-python",
   "name": "python",
   "nbconvert_exporter": "python",
   "pygments_lexer": "ipython3",
   "version": "3.9.21"
  }
 },
 "nbformat": 4,
 "nbformat_minor": 5
}
