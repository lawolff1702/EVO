{
 "cells": [
  {
   "cell_type": "code",
   "execution_count": 1,
   "id": "6f8341b2-0d61-48b0-9536-b7db7eeae5f0",
   "metadata": {},
   "outputs": [],
   "source": [
    "!git add ."
   ]
  },
  {
   "cell_type": "code",
   "execution_count": 4,
   "id": "e03dfaf4-3f07-4e1f-807c-4df3b8376248",
   "metadata": {},
   "outputs": [
    {
     "name": "stdout",
     "output_type": "stream",
     "text": [
      "Switched to a new branch 'ada-comp'\n"
     ]
    }
   ],
   "source": [
    "!git checkout -b ada-comp"
   ]
  },
  {
   "cell_type": "code",
   "execution_count": 5,
   "id": "048ea4ff-4a16-4990-90e3-9c86132986f1",
   "metadata": {},
   "outputs": [],
   "source": [
    "!git add ."
   ]
  },
  {
   "cell_type": "code",
   "execution_count": 9,
   "id": "77982a5b-a42f-45e9-8f39-8bc7cf597b5e",
   "metadata": {},
   "outputs": [
    {
     "name": "stdout",
     "output_type": "stream",
     "text": [
      "[ada-comp 93431ee] Ran comparisons on selection/elitism data\n",
      " 12 files changed, 8112 insertions(+), 123 deletions(-)\n",
      " create mode 100644 .ipynb_checkpoints/git-checkpoint.ipynb\n",
      " create mode 100644 ExplorationVsExploitation/.ipynb_checkpoints/EVO-checkpoint.py\n",
      " create mode 100644 ExplorationVsExploitation/.ipynb_checkpoints/ExplorationVSExploitation-checkpoint.ipynb\n",
      " create mode 100644 ExplorationVsExploitation/__pycache__/EVO.cpython-311.pyc\n",
      " create mode 100644 fitness/.ipynb_checkpoints/fitness-checkpoint.py\n",
      " create mode 100644 fitness/.ipynb_checkpoints/fitness_comparisons-checkpoint.ipynb\n",
      " create mode 100644 fitness/__pycache__/fitness.cpython-311.pyc\n",
      " create mode 100644 git.ipynb\n",
      " mode change 100644 => 100755 jupyter/jupyterLabOnNode.sh\n"
     ]
    }
   ],
   "source": [
    "!git commit -m \"Ran comparisons on selection/elitism data\""
   ]
  },
  {
   "cell_type": "code",
   "execution_count": 7,
   "id": "2fb58feb-d7dd-45ec-a3a1-96492af5a46f",
   "metadata": {},
   "outputs": [],
   "source": [
    "!git config --global user.email lawolff@middlebury.edu"
   ]
  },
  {
   "cell_type": "code",
   "execution_count": 8,
   "id": "5a1d27e9-d11a-4ab4-87fc-827d5cc0935c",
   "metadata": {},
   "outputs": [],
   "source": [
    "!git config --global user.name Lukka Wolff"
   ]
  },
  {
   "cell_type": "code",
   "execution_count": null,
   "id": "cb3931ee-8f37-47a8-b7cf-959b2c602587",
   "metadata": {},
   "outputs": [
    {
     "name": "stdout",
     "output_type": "stream",
     "text": [
      "Username for 'https://github.com': "
     ]
    }
   ],
   "source": [
    "!git push --set-upstream origin ada-comp"
   ]
  },
  {
   "cell_type": "code",
   "execution_count": null,
   "id": "9fe62fd3-999d-4ee4-830b-adfcb1fa4fbc",
   "metadata": {},
   "outputs": [],
   "source": []
  }
 ],
 "metadata": {
  "kernelspec": {
   "display_name": "Python 3 (ipykernel)",
   "language": "python",
   "name": "python3"
  },
  "language_info": {
   "codemirror_mode": {
    "name": "ipython",
    "version": 3
   },
   "file_extension": ".py",
   "mimetype": "text/x-python",
   "name": "python",
   "nbconvert_exporter": "python",
   "pygments_lexer": "ipython3",
   "version": "3.11.0"
  }
 },
 "nbformat": 4,
 "nbformat_minor": 5
}
